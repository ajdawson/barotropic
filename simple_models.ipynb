{
 "cells": [
  {
   "cell_type": "markdown",
   "metadata": {
    "slideshow": {
     "slide_type": "slide"
    }
   },
   "source": [
    "# Running barotropic models\n",
    "\n",
    "In this notebook we'll run a couple of different barotropic model configurations and write their output to NetCDF files.\n",
    "\n",
    "We won't have to change any of the code in the `barotropic` package. We can create multiple independent model instances, because all model state is stored within the model instance (i.e., no global state in the `barotropic` module)."
   ]
  },
  {
   "cell_type": "markdown",
   "metadata": {
    "slideshow": {
     "slide_type": "slide"
    }
   },
   "source": [
    "The first job is to import the modules/objects we'll need:"
   ]
  },
  {
   "cell_type": "code",
   "execution_count": null,
   "metadata": {
    "collapsed": false,
    "slideshow": {
     "slide_type": "-"
    }
   },
   "outputs": [],
   "source": [
    "from datetime import datetime\n",
    "\n",
    "import netCDF4\n",
    "import numpy as np\n",
    "\n",
    "from barotropic.model import BarotropicModel\n",
    "from barotropic.io import NetCDFWriter"
   ]
  },
  {
   "cell_type": "markdown",
   "metadata": {
    "slideshow": {
     "slide_type": "slide"
    }
   },
   "source": [
    "Before we start creating models we'll just create a few variables to control how long we run each model for and how often we write output to file. Both models will be run for 5 days and write output every 6 hours:"
   ]
  },
  {
   "cell_type": "code",
   "execution_count": null,
   "metadata": {
    "collapsed": true,
    "slideshow": {
     "slide_type": "-"
    }
   },
   "outputs": [],
   "source": [
    "hour = 3600\n",
    "run_time = 5 * 24 * hour\n",
    "output_interval = 6 * hour"
   ]
  },
  {
   "cell_type": "markdown",
   "metadata": {
    "slideshow": {
     "slide_type": "slide"
    }
   },
   "source": [
    "### An idealized initial condition\n",
    "\n",
    "The first model we'll run uses an idealized initial condition as in Held (1985).\n",
    "The initial vorticity is derived from a zonal wind:\n",
    "    \n",
    "$u(\\theta) = 25 \\cos(\\theta)\\, - 30 \\cos^3(\\theta) + 300 \\sin^2(\\theta)\\,\\cos^6(\\theta)$\n",
    "\n",
    "where $\\theta$ is latitude. The associated vorticity (assuming zero meridional flow) is computed and the following perturbation is added:\n",
    "\n",
    "$\\zeta^\\prime = \\dfrac{A}{2}\\, \\cos (\\theta) \\, \\exp{\\left[-\\left((\\theta - \\theta_0)/\\theta_w\\right)^2\\right]} \\, \\cos (m \\lambda)$\n",
    "\n",
    "with $m = 4$, $\\theta_0 = 45^\\circ\\textrm{N}$, $\\theta_w = 15^\\circ$, and $A = 8\\times 10^{-5}$, and where $\\lambda$ is longitude."
   ]
  },
  {
   "cell_type": "markdown",
   "metadata": {
    "slideshow": {
     "slide_type": "slide"
    }
   },
   "source": [
    "To save time and effort, this initial condition has been pre-generated on an N64 Gaussian grid, and is contained in the NumPy save file `input_data/idealized.npy`.\n",
    "\n",
    "We can load this file using `np.load`, determine the grid size and work out a good trunction:"
   ]
  },
  {
   "cell_type": "code",
   "execution_count": null,
   "metadata": {
    "collapsed": true,
    "slideshow": {
     "slide_type": "-"
    }
   },
   "outputs": [],
   "source": [
    "vrt = np.load('input_data/idealized.npy')\n",
    "nlat, nlon = vrt.shape\n",
    "truncation = nlon // 3"
   ]
  },
  {
   "cell_type": "markdown",
   "metadata": {
    "slideshow": {
     "slide_type": "slide"
    }
   },
   "source": [
    "Next we can create a barotropic model using this initial condition.\n",
    "For this model resolution a time-step of 1800 seconds is a good enough choice.\n",
    "We'll pick an arbitrary start date, it doesn't mean anything in this case."
   ]
  },
  {
   "cell_type": "code",
   "execution_count": null,
   "metadata": {
    "collapsed": false,
    "slideshow": {
     "slide_type": "-"
    }
   },
   "outputs": [],
   "source": [
    "dt = 1800\n",
    "start_time = datetime(2000, 1, 1)\n",
    "model_ideal = BarotropicModel(nlon, nlat, truncation, dt, start_time,\n",
    "                              vrt=vrt)"
   ]
  },
  {
   "cell_type": "markdown",
   "metadata": {
    "slideshow": {
     "slide_type": "slide"
    }
   },
   "source": [
    "We want to run this model, saving output every 3 hours.\n",
    "For this we're going to need a way to write model data to file.\n",
    "\n",
    "Within the `barotropic.io` module is a class called `NetCDFWriter` that we can use for this.\n",
    "It is already imported so we can go ahead and use it, it takes a model and a filename as input."
   ]
  },
  {
   "cell_type": "code",
   "execution_count": null,
   "metadata": {
    "collapsed": false,
    "slideshow": {
     "slide_type": "-"
    }
   },
   "outputs": [],
   "source": [
    "saver_ideal = NetCDFWriter(model_ideal, 'model_idealized.nc')"
   ]
  },
  {
   "cell_type": "markdown",
   "metadata": {
    "slideshow": {
     "slide_type": "-"
    }
   },
   "source": [
    "Later we can call the `save()` method of the `NetCDFWriter` to save model state to file:"
   ]
  },
  {
   "cell_type": "markdown",
   "metadata": {
    "slideshow": {
     "slide_type": "slide"
    }
   },
   "source": [
    "Now we have both a model and a saver we can run the model.\n",
    "\n",
    "The model object has a method called `run_with_snapshots()` which allows us to run a model for a specified amount of time, pausing at specified intervals.\n",
    "\n",
    "We can tell the model to pause every 3 hours and during this pause we can write output using our saver:"
   ]
  },
  {
   "cell_type": "code",
   "execution_count": null,
   "metadata": {
    "collapsed": false,
    "scrolled": true,
    "slideshow": {
     "slide_type": "slide"
    }
   },
   "outputs": [],
   "source": [
    "# The run_with_snapshots method is an iterator that yields the\n",
    "# current model time at the given interval. This means we can\n",
    "# loop over the iterator saving the current model state.\n",
    "for t in model_ideal.run_with_snapshots(\n",
    "        run_time, snapshot_interval=output_interval):\n",
    "    print('Saving output at time: {}'.format(model_ideal.valid_time))\n",
    "    saver_ideal.save()\n",
    "    \n",
    "# Make sure the output file is closed when we are done:\n",
    "saver_ideal.close()"
   ]
  },
  {
   "cell_type": "markdown",
   "metadata": {
    "slideshow": {
     "slide_type": "slide"
    }
   },
   "source": [
    "We now have a file `'model_idealized.nc'` that contains our model output:"
   ]
  },
  {
   "cell_type": "code",
   "execution_count": null,
   "metadata": {
    "collapsed": false,
    "scrolled": true,
    "slideshow": {
     "slide_type": "-"
    }
   },
   "outputs": [],
   "source": [
    "!ncdump -h model_idealized.nc"
   ]
  },
  {
   "cell_type": "markdown",
   "metadata": {
    "slideshow": {
     "slide_type": "slide"
    }
   },
   "source": [
    "### A realistic initial condition\n",
    "\n",
    "We can also run the barotropic model with a more realistic initial condition.\n",
    "\n",
    "We'll set up a second model that is initialized using vorticity from ECMWF analysis valid at 2016-11-01 0000z.\n",
    "This initial condition is stored in the NetCDF file `input_data/ecmwf.201611010000.nc`.\n",
    "\n",
    "This file contains data on an N80 Gaussian grid, corresponding to a spectral resolution of T106.\n",
    "This is higher resolution than the previous model, so we'll need to make the time-step shorter:"
   ]
  },
  {
   "cell_type": "code",
   "execution_count": null,
   "metadata": {
    "collapsed": false,
    "scrolled": true,
    "slideshow": {
     "slide_type": "slide"
    }
   },
   "outputs": [],
   "source": [
    "# Load initial condition from file:\n",
    "ds = netCDF4.Dataset('input_data/ecmwf.201611010000.nc')\n",
    "vrt = ds.variables['atmosphere_relative_vorticity'][:]\n",
    "nlat, nlon = vrt.shape\n",
    "truncation = nlon // 3\n",
    "\n",
    "# Use a shorter 900 second time-step and the correct start time:\n",
    "dt = 900\n",
    "start_time = datetime(2016, 11, 1, 0)\n",
    "\n",
    "# Create the model and a saver:\n",
    "model_ecmwf = BarotropicModel(nlon, nlat, truncation, dt, start_time,\n",
    "                              vrt=vrt)\n",
    "saver_ecmwf = NetCDFWriter(model_ecmwf, 'model_ecmwf.nc')\n",
    "\n",
    "# Run the model (same method as before)\n",
    "for t in model_ecmwf.run_with_snapshots(\n",
    "        run_time, snapshot_interval=output_interval):\n",
    "    print('Saving output at time: {}'.format(model_ecmwf.valid_time))\n",
    "    saver_ecmwf.save()\n",
    "saver_ecmwf.close()"
   ]
  },
  {
   "cell_type": "markdown",
   "metadata": {
    "slideshow": {
     "slide_type": "slide"
    }
   },
   "source": [
    "# Visualizing the output : GeoViews\n",
    "\n",
    "We are going to visualize the output of the two models using a package called GeoViews.\n",
    "GeoViews is built on-top of matplotlib+cartopy and a package called HoloViews.\n",
    "We won't go into detail about how GeoViews works, we'll just use a simple example."
   ]
  },
  {
   "cell_type": "code",
   "execution_count": null,
   "metadata": {
    "collapsed": false,
    "slideshow": {
     "slide_type": "-"
    }
   },
   "outputs": [],
   "source": [
    "import cartopy.crs as ccrs\n",
    "import iris                 # GeoViews works well with iris\n",
    "import holoviews as hv\n",
    "import geoviews as gv\n",
    "import geoviews.feature as gfeature\n",
    "\n",
    "\n",
    "hv.notebook_extension()\n",
    "%output size=400\n",
    "\n",
    "iris.FUTURE.netcdf_promote = True"
   ]
  },
  {
   "cell_type": "markdown",
   "metadata": {
    "slideshow": {
     "slide_type": "slide"
    }
   },
   "source": [
    "### Loading data and creating a GeoViews dataset\n",
    "\n",
    "We can load the data as normal using iris, then create a GeoViews dataset directly from the loaded cube:"
   ]
  },
  {
   "cell_type": "code",
   "execution_count": null,
   "metadata": {
    "collapsed": false,
    "slideshow": {
     "slide_type": "-"
    }
   },
   "outputs": [],
   "source": [
    "vrt_ideal = iris.load_cube('model_idealized.nc',\n",
    "                           'atmosphere_relative_vorticity')\n",
    "ideal_ds = gv.Dataset(vrt_ideal)"
   ]
  },
  {
   "cell_type": "markdown",
   "metadata": {
    "slideshow": {
     "slide_type": "slide"
    }
   },
   "source": [
    "### Drawing the plot\n",
    "\n",
    "We'll draw a plot by using the `to()` method of the GeoViews dataset to create an `Image`.\n",
    "\n",
    "We specify we want the image to use dimensions `'longitude'` and `'latitude'`, and we'll overlay coastlines."
   ]
  },
  {
   "cell_type": "code",
   "execution_count": null,
   "metadata": {
    "collapsed": false,
    "slideshow": {
     "slide_type": "slide"
    }
   },
   "outputs": [],
   "source": [
    "%%opts Image [projection=ccrs.PlateCarree(), colorbar=True] (cmap='viridis')\n",
    "\n",
    "ideal_ds.to(gv.Image, ['longitude', 'latitude']) * gfeature.coastline"
   ]
  },
  {
   "cell_type": "markdown",
   "metadata": {
    "collapsed": true,
    "slideshow": {
     "slide_type": "slide"
    }
   },
   "source": [
    "### A second plot\n",
    "\n",
    "We can do the same thing for the other model run:"
   ]
  },
  {
   "cell_type": "code",
   "execution_count": null,
   "metadata": {
    "collapsed": false,
    "slideshow": {
     "slide_type": "-"
    }
   },
   "outputs": [],
   "source": [
    "%%opts Image [projection=ccrs.PlateCarree(), colorbar=True] (cmap='viridis')\n",
    "\n",
    "vrt_ecmwf = iris.load_cube('model_ecmwf.nc',\n",
    "                           'atmosphere_relative_vorticity')\n",
    "ecmwf_ds = gv.Dataset(vrt_ecmwf)\n",
    "ecmwf_ds.to(gv.Image, ['longitude', 'latitude']) * gfeature.coastline"
   ]
  }
 ],
 "metadata": {
  "celltoolbar": "Slideshow",
  "kernelspec": {
   "display_name": "Python 3",
   "language": "python",
   "name": "python3"
  },
  "language_info": {
   "codemirror_mode": {
    "name": "ipython",
    "version": 3
   },
   "file_extension": ".py",
   "mimetype": "text/x-python",
   "name": "python",
   "nbconvert_exporter": "python",
   "pygments_lexer": "ipython3",
   "version": "3.5.2"
  },
  "livereveal": {
   "scroll": "true",
   "start_slideshow_at": "selected"
  }
 },
 "nbformat": 4,
 "nbformat_minor": 1
}
